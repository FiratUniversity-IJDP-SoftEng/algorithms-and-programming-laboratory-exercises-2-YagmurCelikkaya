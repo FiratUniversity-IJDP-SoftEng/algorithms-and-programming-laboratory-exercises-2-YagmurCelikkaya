an array of :

        ### [8, 5, 10, 6, 4]

        Starting with the first element of the array [8] and compared with second element [5] 
        and keep doing that until a number bigger than the first element.
        
        ### [5, 8, 10, 6, 4]
        
        [8] is smaller than [10] so  we are going to compare the other element with [10]

        ### [5, 8, 6, 4, 10]
        After there was no numbers left to compare. We get back to the changed first element and start doing it until the array is sorted.
        next steps are:

        ### [5, 6, 4, 8, 10]

        ### [5, 4, 6, 8, 10]

        ### [4, 5, 6, 8, 10]

        2.Merge Sort
    * Time Complexity:

            * Best Case: O(n log n), When the array is already sorted or nearly sorted.

            * Average Case: O(n log n), When the array is randomly ordered.

            * Worst Case: O(n log n), When the array is sorted in reverse order.

    * Auxiliary Space: O(n), Additional space is required for the temporary array used during merging.

        Let's start with the same array and divided in to three parts cause the lenght of the array is odd so we separate the middle part.

        ### [5, 8] [10] [6, 4]

        Then, sort the parts one by one 

        ### [5] [8] [10] [6] [4]

        Then, compare the first element and the second one and merge them
       
        ### [5, 8] [10] [6, 4]

        Next, compare with the second part with the first part 

        ### [5, 8, 10] [6, 4]

        Next, compare the third part with each other 

        ### [5, 8, 10] [4, 6]
       
        finally, compare the two parts into each other

        ### [4, 5, 6, 8, 10]

    ## Non-comparision Sorting
        ###Count Sort

        Counting Sort is a non-comparision sorting algorithm that sorts integers by counting the occurrences of each element. It is efficient for sorting numbers within a known range.

        1. Find the maximum value in the array.
        2. Create a count array to store the frequency of each element.
        3. Modify the count array to store cumulative sums.
        4. Place each element in its correct position in the sorted array.

| Index | Before | After  |
|-------|--------|--------|
| 1     | 1      | 1      |
| 2     | 2      | 3      |
| 3     | 2      | 5      |
| 4     | 1      | 6      |
| 5     | 0      | 6      |
| 6     | 0      | 6      |
| 7     | 0      | 6      |
| 8     | 1      | 7      |

